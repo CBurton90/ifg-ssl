{
 "cells": [
  {
   "cell_type": "code",
   "execution_count": null,
   "metadata": {},
   "outputs": [],
   "source": [
    "import sys\n",
    "sys.path.append(\"/home/conradb/git/ifg-ssl\")\n",
    "import skimage.io\n",
    "\n",
    "# pytorch\n",
    "import torch\n",
    "import torchvision\n",
    "from torchvision import transforms\n",
    "\n",
    "# local module imports\n",
    "import dino.vision_transformer as vit\n",
    "from dino.visualize_attn import display_instances"
   ]
  }
 ],
 "metadata": {
  "language_info": {
   "name": "python"
  }
 },
 "nbformat": 4,
 "nbformat_minor": 2
}
